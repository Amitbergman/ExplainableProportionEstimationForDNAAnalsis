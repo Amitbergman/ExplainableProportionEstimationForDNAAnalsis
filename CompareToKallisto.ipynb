{
 "cells": [
  {
   "cell_type": "markdown",
   "id": "c13107a2-1d59-4752-8418-d47b6f702e5d",
   "metadata": {},
   "source": [
    "# This notebook compares our system to Kallisto, using KL divergence on generated data"
   ]
  },
  {
   "cell_type": "code",
   "execution_count": null,
   "id": "3adff0e4-5e38-4559-9062-f154523fe340",
   "metadata": {},
   "outputs": [],
   "source": [
    "import csv\n",
    "import seaborn as sns\n",
    "from ExplainableMaximumLikelihoodCalculator import ExplainableMaximumLikelihoodCalculator\n",
    "import pysam\n",
    "from Bio import SeqIO, Seq, SeqRecord, pairwise2\n",
    "from Bio.pairwise2 import format_alignment\n",
    "from BamFileUtils import getListOfReadsFromBamFile, getListOfReadsFromFastaFile, create_fasta_from_list_of_reads, getKallistoAbundance\n",
    "import matplotlib.pyplot as plt\n",
    "import numpy as np\n",
    "import pandas as pd\n",
    "import random\n",
    "import math\n",
    "import shap\n",
    "from scipy.stats import chisquare\n",
    "from scipy.special import rel_entr\n",
    "fileNameSapiens =  \"data/simulatedData/human_chinese_AF346973_500samples.fas\"\n",
    "fileNameNeanderthals =  \"data/simulatedData/Neanderthal_Goyet_KX198085_500samples.fas\"\n",
    "fileNameDenisovans =  \"data/simulatedData/denisova_kx663333_500samples.fas\"\n",
    "import time\n",
    "\n",
    "neanderthals_500_generated = getListOfReadsFromFastaFile(fileNameNeanderthals)\n",
    "sapiens_500_generated = getListOfReadsFromFastaFile(fileNameSapiens)\n",
    "denisovan_500_samples = getListOfReadsFromFastaFile(fileNameDenisovans)\n",
    "path_to_frequencies_table = \"data/substitution_matrix.tsv\""
   ]
  },
  {
   "cell_type": "code",
   "execution_count": null,
   "id": "f0ae4cfa-7908-4590-86e4-ba4c71dd276b",
   "metadata": {},
   "outputs": [],
   "source": [
    "# !conda install -c bioconda kallisto"
   ]
  },
  {
   "cell_type": "code",
   "execution_count": null,
   "id": "adb80c85-b8d7-4d86-a3ae-74f5686b339c",
   "metadata": {},
   "outputs": [],
   "source": [
    "number_of_sapienses = 85\n",
    "number_of_neanderthals = 85\n",
    "number_of_denisovans = 85\n",
    "\n",
    "total_length = number_of_sapienses + number_of_neanderthals + number_of_denisovans\n",
    "all_indexes = [i for i in range(total_length)]\n",
    "neanderthal_indexes = [i for i in all_indexes if i<number_of_neanderthals]\n",
    "sapienses_indexes = [i for i in all_indexes if i>= number_of_neanderthals and i < number_of_sapienses + number_of_neanderthals]\n",
    "denisovans_indexes = [i for i in all_indexes if i>= number_of_sapienses + number_of_neanderthals]\n",
    "\n",
    "simulated_reads = neanderthals_500_generated[:number_of_neanderthals] + sapiens_500_generated[:number_of_sapienses] + denisovan_500_samples[:number_of_denisovans]"
   ]
  },
  {
   "cell_type": "code",
   "execution_count": null,
   "id": "7cf6cafb-b2b0-43e5-bb6e-7d963be765b3",
   "metadata": {},
   "outputs": [],
   "source": [
    "sapiens_reference_file_names = [\n",
    "                    \"data/reference_files/human_AF346981_French.fa\",\n",
    "                     \"data/reference_files/human_AY195760_Korea.fa\",\n",
    "                      \"data/reference_files/human_AY882416_Ethiopia.fa\",\n",
    "                      \"data/reference_files/human_AY963586_Italian.fa\",\n",
    "                      \"data/reference_files/human_AY195781_Caucasian.fa\",\n",
    "                      \"data/reference_files/human_AY195757_Iraqi-Israeli.fa\",\n",
    "                      \"data/reference_files/human_AY195749_NativeAmerican.fa\"]\n",
    "neanderthals_reference_file_names = [\n",
    "                            \"data/reference_files/neanderthal_mezmaiskaya1_FM865411.fa\",\n",
    "                           \"data/reference_files/Neanderthal_Altai_KC879692.fa\",\n",
    "                           \"data/reference_files/Neanderthal_Denisova11_full_mtDNA_KU131206.fa\",\n",
    "                           \"data/reference_files/Neanderthal_Spy_94a_MG025538.fa\",\n",
    "                            \"data/reference_files/Neanderthal_Vindija33.16_AM948965.fa\",\n",
    "                            \"data/reference_files/Neanderthal_Vindija33.19_KJ533545.fa\",]\n",
    "denisovan_reference_file_names = [  \n",
    "                        \"data/reference_files/Denisova_MT576653.1.fa\",\n",
    "                        \"data/reference_files/Denisova_MT576652.1.fa\",\n",
    "                        \"data/reference_files/Denisova_4_FR695060.fa\",\n",
    "                        \"data/reference_files/Denisova_8_KT780370.fa\",\n",
    "                        \"data/reference_files/Denisova_manual_phalanx_NC_013993.fa\",\n",
    "                        \"data/reference_files/Denisova_MT576651.1.fa\"]"
   ]
  },
  {
   "cell_type": "code",
   "execution_count": null,
   "id": "3cc7620e-fbf1-4c40-b9a4-6543676bf2f1",
   "metadata": {},
   "outputs": [],
   "source": [
    "!kallisto index -i transcripts_all_refs.idx data/reference_files/Denisova_MT576651.1.fa data/reference_files/Denisova_manual_phalanx_NC_013993.fa data/reference_files/Denisova_8_KT780370.fa data/reference_files/Denisova_4_FR695060.fa data/reference_files/Denisova_MT576652.1.fa data/reference_files/Denisova_MT576653.1.fa data/reference_files/Neanderthal_Spy_94a_MG025538.fa data/reference_files/Neanderthal_Vindija33.19_KJ533545.fa data/reference_files/Neanderthal_Vindija33.16_AM948965.fa data/reference_files/Neanderthal_Denisova11_full_mtDNA_KU131206.fa data/reference_files/Neanderthal_Altai_KC879692.fa data/reference_files/neanderthal_mezmaiskaya1_FM865411.fa data/reference_files/human_AY195749_NativeAmerican.fa data/reference_files/human_AY195757_Iraqi-Israeli.fa data/reference_files/human_AY195781_Caucasian.fa data/reference_files/human_AF346981_French.fa data/reference_files/human_AY195760_Korea.fa data/reference_files/human_AY882416_Ethiopia.fa data/reference_files/human_AY963586_Italian.fa"
   ]
  },
  {
   "cell_type": "code",
   "execution_count": null,
   "id": "21ec68b1-e91a-47bc-8452-2d63084f8d2a",
   "metadata": {},
   "outputs": [],
   "source": [
    "maximum_likelihood_calculator_d_1 = ExplainableMaximumLikelihoodCalculator(simulated_reads,\n",
    "                                                        ref_neanderthal_file_names=neanderthals_reference_file_names,\n",
    "                                                        ref_sapien_file_names=sapiens_reference_file_names,\n",
    "                                                        ref_denisovan_file_names=denisovan_reference_file_names,\n",
    "                                                        path_to_substitution_matrix=path_to_frequencies_table,\n",
    "                                                        number_of_jobs=-1)"
   ]
  },
  {
   "cell_type": "markdown",
   "id": "1e7776ba-c3f4-4dd2-bbf7-f47b7fed9788",
   "metadata": {},
   "source": [
    "### Run maximum likelihood on all the data"
   ]
  },
  {
   "cell_type": "code",
   "execution_count": null,
   "id": "6a4ce89c-e41f-4e00-a12f-528224937f6e",
   "metadata": {},
   "outputs": [],
   "source": [
    "maximum_likelihood_calculator_d_1.estimate_species_proportions(100)"
   ]
  },
  {
   "cell_type": "markdown",
   "id": "2b51a7c2-6c88-4ffd-8594-589835073f5e",
   "metadata": {},
   "source": [
    "### Run Kallisto on all the data"
   ]
  },
  {
   "cell_type": "code",
   "execution_count": null,
   "id": "fd77b723-61a4-4780-97fd-f6a8ed12e179",
   "metadata": {},
   "outputs": [],
   "source": [
    "create_fasta_from_list_of_reads(\"sample_for_kalisto.fas\", simulated_reads)\n",
    "!kallisto quant -i transcripts_all_refs.idx -o output -b 100 --single sample_for_kalisto.fas -l 75 -s 0.02 &>/dev/null\n",
    "result_kalisto = getKallistoAbundance()"
   ]
  },
  {
   "cell_type": "code",
   "execution_count": null,
   "id": "b14e5c0a-b75d-4a33-bc6c-1ab13b8561a5",
   "metadata": {},
   "outputs": [],
   "source": [
    "def generate_sample(sample_size):\n",
    "    species = random.randint(0,2)\n",
    "    \n",
    "    tenth = sample_size //10\n",
    "    number_of_neanderthals = tenth\n",
    "    number_of_sapiens = tenth\n",
    "    number_of_denisovans = tenth\n",
    "    \n",
    "    if (species ==0):\n",
    "        number_of_sapiens = sample_size - tenth*2\n",
    "    if (species ==1):\n",
    "        number_of_neanderthals = sample_size- tenth*2\n",
    "    if (species == 2):\n",
    "        number_of_denisovans = sample_size- tenth*2\n",
    "    return (number_of_sapiens, number_of_neanderthals, number_of_denisovans)"
   ]
  },
  {
   "cell_type": "code",
   "execution_count": null,
   "id": "4ac911fe-2b7a-432c-949e-962e2e5a9f86",
   "metadata": {},
   "outputs": [],
   "source": [
    "sample_sizes = [10,20,30,40,50,60,70,80,90,100]\n",
    "print(sample_sizes)\n",
    "indexes = [i for i in range(total_length)]\n",
    "number_of_trials_per_sample_size = 200\n",
    "\n",
    "data_kl = []\n",
    "distances = []\n",
    "\n",
    "for sample_size in sample_sizes:\n",
    "    print(sample_size)\n",
    "    number_of_samples = 0\n",
    "    while (number_of_samples < number_of_trials_per_sample_size):\n",
    "        if (number_of_samples%10 == 0):\n",
    "            print(sample_size, number_of_samples)\n",
    "        (sapien_sample_size, neanderthal_sample_size, denisovan_sample_size) = generate_sample(sample_size)\n",
    "        neanderthal_sample = random.sample(neanderthal_indexes, neanderthal_sample_size)\n",
    "        sapien_sample = random.sample(sapienses_indexes, sapien_sample_size)\n",
    "        denisovan_sample = random.sample(denisovans_indexes, denisovan_sample_size)\n",
    "        sample = neanderthal_sample + sapien_sample + denisovan_sample\n",
    "        neanderthals_in_sample = neanderthal_sample_size/sample_size\n",
    "        sapiens_in_sample = sapien_sample_size/sample_size\n",
    "        denisovans_in_sample = denisovan_sample_size/sample_size\n",
    "        \n",
    "        expected_result = np.asarray([sapiens_in_sample, neanderthals_in_sample, denisovans_in_sample])\n",
    "        \n",
    "        sample_to_run_kalisto_on = [simulated_reads[k] for k in indexes if k in sample]\n",
    "        create_fasta_from_list_of_reads(\"sample_for_kalisto.fas\", sample_to_run_kalisto_on)\n",
    "        !kallisto quant -i transcripts_all_refs.idx -o output -b 100 --single sample_for_kalisto.fas -l 75 -s 0.02 &>/dev/null\n",
    "        result_kalisto = getKallistoAbundance()\n",
    "        \n",
    "        result_likeli_calc = maximum_likelihood_calculator_d_1.calc_maximum_likelihood_on_subset(sample,100).values[0]\n",
    "\n",
    "        distance_kalisto = np.absolute(result_kalisto - expected_result)\n",
    "        distance_likeli = np.absolute(result_likeli_calc - expected_result)\n",
    "\n",
    "        kl_divergence_kalisto = sum(rel_entr(result_kalisto, expected_result))\n",
    "        kl_divergence_likeli = sum(rel_entr(result_likeli_calc, expected_result))\n",
    "\n",
    "        data_kl.append((sample_size, kl_divergence_kalisto, \"Kallisto\"))\n",
    "        data_kl.append((sample_size, kl_divergence_likeli, \"Maximum Likelihood Calculator\"))\n",
    "\n",
    "        distances.append((sample_size, distance_kalisto, \"Kallisto\"))\n",
    "        distances.append((sample_size, distance_likeli, \"Maximum Likelihood Calculator\"))\n",
    "\n",
    "        number_of_samples+=1\n"
   ]
  },
  {
   "cell_type": "code",
   "execution_count": null,
   "id": "8d930c32-d079-483a-9d1a-547371306513",
   "metadata": {},
   "outputs": [],
   "source": [
    "distances_averaged = [(i[0], np.mean(i[1]), i[2]) for i in distances]\n",
    "data_kallisto = [i for i in distances_averaged if i[2] == \"Kallisto\"]\n",
    "data_maximum_likelihood = [i for i in distances_averaged if i[2] == \"Maximum Likelihood Calculator\"]"
   ]
  },
  {
   "cell_type": "code",
   "execution_count": null,
   "id": "7c7dfb2b-6a97-40ff-9058-513f2c9ec695",
   "metadata": {},
   "outputs": [],
   "source": [
    "data_averaged_likeli = []\n",
    "data_averaged_kallisto = []\n",
    "data_averaged_partial= []\n",
    "\n",
    "for size in sample_sizes:\n",
    "    kali = [i[1] for i in data_kallisto if i[0] == size]\n",
    "    likeli_calc_list = [i[1] for i in data_maximum_likelihood if i[0] == size]\n",
    "    average_kali = np.mean(kali)\n",
    "    average_likeli = np.mean(likeli_calc_list)\n",
    "    data_averaged_kallisto.append((size, average_kali))\n",
    "    data_averaged_likeli.append((size, average_likeli))\n"
   ]
  },
  {
   "cell_type": "code",
   "execution_count": null,
   "id": "571799e9-e344-430e-a08a-4a751dfde0f1",
   "metadata": {},
   "outputs": [],
   "source": [
    "data_kallisto = [i for i in data_kl if i[2] == \"Kallisto\"]\n",
    "data_maximum_likelihood = [i for i in data_kl if i[2] == \"Maximum Likelihood Calculator\"]\n"
   ]
  },
  {
   "cell_type": "code",
   "execution_count": null,
   "id": "b88311b4-128c-4758-9775-416a8b93b0e2",
   "metadata": {},
   "outputs": [],
   "source": [
    "sample_sizes = [10*i for i in range(100) if i > 0 and 10*i < 101]\n",
    "\n",
    "data_averaged_likeli = []\n",
    "data_averaged_kallisto = []\n",
    "\n",
    "for size in sample_sizes:\n",
    "    kali = [i[1] for i in data_kallisto if i[0] == size]\n",
    "    likeli_calc_list = [i[1] for i in data_maximum_likelihood if i[0] == size]\n",
    "    average_kali = np.mean(kali)\n",
    "    average_likeli = np.mean(likeli_calc_list)\n",
    "    \n",
    "    data_averaged_kallisto.append((size, average_kali))\n",
    "    data_averaged_likeli.append((size, average_likeli))\n",
    "\n",
    "# create data\n",
    "x = sample_sizes\n",
    "y_kalisto = [i[1] for i in data_averaged_kallisto]\n",
    "y_likeli = [i[1] for i in data_averaged_likeli]\n",
    "  \n",
    "plt.rcParams.update({'font.size': 15})\n",
    "plt.plot(x, y_kalisto, label = \"Kallisto\", linewidth=3, color=\"green\", linestyle=\"dashed\")\n",
    "plt.plot(x, y_likeli, label = \"Algorithm 1\", linewidth=3, color=\"brown\")\n",
    "plt.xlabel(\"Dataset size\")\n",
    "plt.ylabel(\"KL-Divergence from ground truth\")\n",
    "plt.legend()\n",
    "\n",
    "plt.rcParams.update({'font.size': 12})\n",
    "\n",
    "plt.text(x[-1]-5, y_kalisto[-1]+0.01, str(y_kalisto[-1])[:4])\n",
    "plt.savefig(\"sampleSizeToKLDivergenceKallistoComparedToexML.png\")"
   ]
  }
 ],
 "metadata": {
  "kernelspec": {
   "display_name": "Python 3 (ipykernel)",
   "language": "python",
   "name": "python3"
  },
  "language_info": {
   "codemirror_mode": {
    "name": "ipython",
    "version": 3
   },
   "file_extension": ".py",
   "mimetype": "text/x-python",
   "name": "python",
   "nbconvert_exporter": "python",
   "pygments_lexer": "ipython3",
   "version": "3.8.8"
  }
 },
 "nbformat": 4,
 "nbformat_minor": 5
}
