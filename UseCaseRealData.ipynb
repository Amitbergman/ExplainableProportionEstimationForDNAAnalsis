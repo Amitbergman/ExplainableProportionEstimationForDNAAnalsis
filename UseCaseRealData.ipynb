{
 "cells": [
  {
   "cell_type": "code",
   "execution_count": 1,
   "id": "55920d8e-0dd0-456f-952e-282ad53d9f7f",
   "metadata": {},
   "outputs": [
    {
     "name": "stderr",
     "output_type": "stream",
     "text": [
      "2023-09-23 13:36:21.875379: I tensorflow/core/platform/cpu_feature_guard.cc:193] This TensorFlow binary is optimized with oneAPI Deep Neural Network Library (oneDNN) to use the following CPU instructions in performance-critical operations:  AVX2 AVX512F AVX512_VNNI FMA\n",
      "To enable them in other operations, rebuild TensorFlow with the appropriate compiler flags.\n",
      "2023-09-23 13:36:22.481414: I tensorflow/core/util/util.cc:169] oneDNN custom operations are on. You may see slightly different numerical results due to floating-point round-off errors from different computation orders. To turn them off, set the environment variable `TF_ENABLE_ONEDNN_OPTS=0`.\n",
      "2023-09-23 13:36:22.712988: E tensorflow/stream_executor/cuda/cuda_blas.cc:2981] Unable to register cuBLAS factory: Attempting to register factory for plugin cuBLAS when one has already been registered\n",
      "2023-09-23 13:36:24.510854: W tensorflow/stream_executor/platform/default/dso_loader.cc:64] Could not load dynamic library 'libnvinfer.so.7'; dlerror: libnvinfer.so.7: cannot open shared object file: No such file or directory\n",
      "2023-09-23 13:36:24.511171: W tensorflow/stream_executor/platform/default/dso_loader.cc:64] Could not load dynamic library 'libnvinfer_plugin.so.7'; dlerror: libnvinfer_plugin.so.7: cannot open shared object file: No such file or directory\n",
      "2023-09-23 13:36:24.511184: W tensorflow/compiler/tf2tensorrt/utils/py_utils.cc:38] TF-TRT Warning: Cannot dlopen some TensorRT libraries. If you would like to use Nvidia GPU with TensorRT, please make sure the missing libraries mentioned above are installed properly.\n"
     ]
    }
   ],
   "source": [
    "def warn(*args, **kwargs):\n",
    "    pass\n",
    "import warnings\n",
    "warnings.warn = warn\n",
    "import seaborn as sns\n",
    "from ExplainableMaximumLikelihoodCalculator import ExplainableMaximumLikelihoodCalculator\n",
    "import pysam\n",
    "from Bio import SeqIO, Seq, SeqRecord, pairwise2\n",
    "from Bio.pairwise2 import format_alignment\n",
    "from LoadDataUtils import getListOfReadsFromFastaFile\n",
    "import matplotlib.pyplot as plt\n",
    "import numpy as np\n",
    "import pandas as pd\n",
    "import random\n",
    "import math\n",
    "import shap\n",
    "from Bio import SeqIO\n",
    "import csv\n",
    "from scipy.stats import chisquare\n",
    "from scipy.special import rel_entr\n",
    "fileNameSapiens =  \"data/simulatedData/human_chinese_AF346973_500samples.fas\" #File that contains 500 reads from homo sapiens\n",
    "fileNameNeanderthals =  \"data/simulatedData/Neanderthal_Goyet_KX198085_500samples.fas\" #File that contains 500 reads from neanderthal\n",
    "fileNameDenisovans =  \"data/simulatedData/denisova_kx663333_500samples.fas\" #File that contains 500 reads from denisovan\n",
    "neanderthals_500_generated = getListOfReadsFromFastaFile(fileNameNeanderthals)\n",
    "sapiens_500_generated = getListOfReadsFromFastaFile(fileNameSapiens)\n",
    "denisovan_500_samples = getListOfReadsFromFastaFile(fileNameDenisovans)\n",
    "path_to_frequencies_table = \"data/substitution_matrix.tsv\"\n",
    "import itertools\n",
    "bamFilePath_1 = \"data/RealData/merged_HST_Fumane_50_50_100reads.bam\"\n",
    "bamFilePath_2 = \"data/RealData/merged_NeaDenisovaCave_Fumane_50_50_100reads.bam\"\n",
    "\n",
    "def findsubsets(s, n):\n",
    "    subsets = list(itertools.combinations(s, n))\n",
    "    return [list(a) for a in subsets]\n",
    "\n",
    "def getListOfReadsFromBamFile(bamFilePath):\n",
    "    samfile = pysam.AlignmentFile(bamFilePath, \"rb\")\n",
    "    list_to_return = []\n",
    "    for entry in samfile:\n",
    "        list_to_return.append({\n",
    "            \"read\": str(entry.seq),\n",
    "            \"isReverse\": entry.is_reverse,\n",
    "            \"name\": entry.to_dict()[\"name\"]\n",
    "        })\n",
    "    return list_to_return"
   ]
  },
  {
   "cell_type": "code",
   "execution_count": 2,
   "id": "124f74b2-a587-401e-911f-8e7c1a2903d3",
   "metadata": {},
   "outputs": [],
   "source": [
    "sapiens_reference_file_names = [\n",
    "                    \"data/reference_files/human_AF346981_French.fa\",\n",
    "                     \"data/reference_files/human_AY195760_Korea.fa\",\n",
    "                      \"data/reference_files/human_AY882416_Ethiopia.fa\",\n",
    "                      \"data/reference_files/human_AY963586_Italian.fa\",\n",
    "                      \"data/reference_files/human_AY195781_Caucasian.fa\",\n",
    "                      \"data/reference_files/human_AY195757_Iraqi-Israeli.fa\",\n",
    "                      \"data/reference_files/human_AY195749_NativeAmerican.fa\"]\n",
    "neanderthals_reference_file_names = [\n",
    "                            \"data/reference_files/neanderthal_mezmaiskaya1_FM865411.fa\",\n",
    "                           \"data/reference_files/Neanderthal_Altai_KC879692.fa\",\n",
    "                           \"data/reference_files/Neanderthal_Denisova11_full_mtDNA_KU131206.fa\",\n",
    "                           \"data/reference_files/Neanderthal_Spy_94a_MG025538.fa\",\n",
    "                            \"data/reference_files/Neanderthal_Vindija33.16_AM948965.fa\",\n",
    "                            \"data/reference_files/Neanderthal_Vindija33.19_KJ533545.fa\"]\n",
    "denisovan_reference_file_names = [  \n",
    "                        \"data/reference_files/Denisova_MT576653.1.fa\",\n",
    "                        \"data/reference_files/Denisova_MT576652.1.fa\",\n",
    "                        \"data/reference_files/Denisova_4_FR695060.fa\",\n",
    "                        \"data/reference_files/Denisova_8_KT780370.fa\",\n",
    "                        \"data/reference_files/Denisova_manual_phalanx_NC_013993.fa\",\n",
    "                        \"data/reference_files/Denisova_MT576651.1.fa\"]"
   ]
  },
  {
   "cell_type": "markdown",
   "id": "b33336a2-19ef-475d-8e82-2141f30f8f42",
   "metadata": {},
   "source": [
    "## Start with the first dataset"
   ]
  },
  {
   "cell_type": "code",
   "execution_count": 3,
   "id": "adf50456-93cf-46a3-b14c-98828fa1b1f8",
   "metadata": {},
   "outputs": [
    {
     "name": "stderr",
     "output_type": "stream",
     "text": [
      "[E::idx_find_and_load] Could not retrieve index file for 'data/RealData/merged_HST_Fumane_50_50_100reads.bam'\n"
     ]
    }
   ],
   "source": [
    "sequences_1 = getListOfReadsFromBamFile(bamFilePath_1)\n",
    "sorted_reads_1 = sorted(sequences_1, key=lambda a: a[\"name\"])\n",
    "sorted_reads_only_sequence_1 = [a[\"read\"] for a in sorted_reads_1]"
   ]
  },
  {
   "cell_type": "code",
   "execution_count": 4,
   "id": "ef37c202-380e-4dfc-8792-95fdda52755e",
   "metadata": {},
   "outputs": [
    {
     "name": "stdout",
     "output_type": "stream",
     "text": [
      "\u001b[34mLoading sequences and calculating alignments to all references, this might take a while. Number of reads: \u001b[0m 100\n",
      "start working on read number 0\n",
      "start working on read number 40\n",
      "start working on read number 80\n"
     ]
    }
   ],
   "source": [
    "maximum_likelihood_calculator_d_1 = ExplainableMaximumLikelihoodCalculator(sorted_reads_only_sequence_1,\n",
    "                                                    ref_neanderthal_file_names=neanderthals_reference_file_names,\n",
    "                                                    ref_sapien_file_names=sapiens_reference_file_names,\n",
    "                                                    ref_denisovan_file_names=denisovan_reference_file_names,\n",
    "                                                    path_to_substitution_matrix=path_to_frequencies_table,\n",
    "                                                    number_of_jobs=-1)"
   ]
  },
  {
   "cell_type": "code",
   "execution_count": 6,
   "id": "2ea13f9d-a926-4508-9f9c-0dba5fc5e8fc",
   "metadata": {},
   "outputs": [
    {
     "data": {
      "text/html": [
       "<div>\n",
       "<style scoped>\n",
       "    .dataframe tbody tr th:only-of-type {\n",
       "        vertical-align: middle;\n",
       "    }\n",
       "\n",
       "    .dataframe tbody tr th {\n",
       "        vertical-align: top;\n",
       "    }\n",
       "\n",
       "    .dataframe thead th {\n",
       "        text-align: right;\n",
       "    }\n",
       "</style>\n",
       "<table border=\"1\" class=\"dataframe\">\n",
       "  <thead>\n",
       "    <tr style=\"text-align: right;\">\n",
       "      <th></th>\n",
       "      <th>Homo Sapiens</th>\n",
       "      <th>Neanderthals</th>\n",
       "      <th>Denisovans</th>\n",
       "    </tr>\n",
       "  </thead>\n",
       "  <tbody>\n",
       "    <tr>\n",
       "      <th>Estimation</th>\n",
       "      <td>0.8</td>\n",
       "      <td>0.175</td>\n",
       "      <td>0.025</td>\n",
       "    </tr>\n",
       "  </tbody>\n",
       "</table>\n",
       "</div>"
      ],
      "text/plain": [
       "            Homo Sapiens  Neanderthals  Denisovans\n",
       "Estimation           0.8         0.175       0.025"
      ]
     },
     "execution_count": 6,
     "metadata": {},
     "output_type": "execute_result"
    }
   ],
   "source": [
    "maximum_likelihood_calculator_d_1.estimate_species_proportions()"
   ]
  },
  {
   "cell_type": "markdown",
   "id": "f87d9afb-d0d8-49c5-8576-1de852622fd7",
   "metadata": {},
   "source": [
    "### Calculate shap with 10000 samples"
   ]
  },
  {
   "cell_type": "code",
   "execution_count": 10,
   "id": "3a598bf4-4d14-4b6f-b936-542d9f29909a",
   "metadata": {},
   "outputs": [
    {
     "name": "stdout",
     "output_type": "stream",
     "text": [
      "1\n"
     ]
    },
    {
     "data": {
      "application/vnd.jupyter.widget-view+json": {
       "model_id": "fb8da2a9ded44d43a089add448a113c6",
       "version_major": 2,
       "version_minor": 0
      },
      "text/plain": [
       "  0%|          | 0/1 [00:00<?, ?it/s]"
      ]
     },
     "metadata": {},
     "output_type": "display_data"
    },
    {
     "name": "stdout",
     "output_type": "stream",
     "text": [
      "1\n",
      "10000\n"
     ]
    }
   ],
   "source": [
    "shaps_10000_dataset_1 = maximum_likelihood_calculator_d_1.calculate_shapley_values(10000)"
   ]
  },
  {
   "cell_type": "code",
   "execution_count": 13,
   "id": "24cd643f-628b-4d59-acd1-7e2a72d99f34",
   "metadata": {},
   "outputs": [
    {
     "data": {
      "image/png": "[encoded data removed]",
      "text/plain": [
       "<Figure size 640x480 with 1 Axes>"
      ]
     },
     "metadata": {},
     "output_type": "display_data"
    }
   ],
   "source": [
    "plt.bar([i for i in range(100)],shaps_10000_dataset_1[0][0])\n",
    "plt.rcParams.update({'font.size': 15})\n",
    "\n",
    "plt.xlabel(\"Read index\")\n",
    "plt.ylabel(\"Influence value\")\n",
    "plt.tight_layout()\n",
    "plt.savefig(\"dataset_1_shap_homosapiens.png\", bbox_inches='tight')\n",
    "\n"
   ]
  },
  {
   "cell_type": "code",
   "execution_count": 12,
   "id": "aa1a60d3-796d-4ba0-81b4-74623bd366ac",
   "metadata": {},
   "outputs": [
    {
     "data": {
      "image/png": "[encoded data removed]",
      "text/plain": [
       "<Figure size 640x480 with 1 Axes>"
      ]
     },
     "metadata": {},
     "output_type": "display_data"
    }
   ],
   "source": [
    "plt.bar([i for i in range(100)],shaps_10000_dataset_1[1][0])\n",
    "plt.rcParams.update({'font.size': 15})\n",
    "\n",
    "plt.xlabel(\"Read index\")\n",
    "plt.ylabel(\"Influence value\")\n",
    "plt.tight_layout()\n",
    "plt.savefig(\"dataset_1_shap_neanderthals.png\", bbox_inches='tight')\n"
   ]
  },
  {
   "cell_type": "code",
   "execution_count": 14,
   "id": "e9476f8a-31f8-47a1-9da7-bc377bcdae46",
   "metadata": {},
   "outputs": [
    {
     "data": {
      "image/png": "[encoded data removed]",
      "text/plain": [
       "<Figure size 640x480 with 1 Axes>"
      ]
     },
     "metadata": {},
     "output_type": "display_data"
    }
   ],
   "source": [
    "plt.bar([i for i in range(100)],shaps_10000_dataset_1[2][0])\n",
    "plt.rcParams.update({'font.size': 15})\n",
    "\n",
    "plt.xlabel(\"Read index\")\n",
    "plt.ylabel(\"Influence value\")\n",
    "plt.tight_layout()\n",
    "plt.savefig(\"dataset_1_shap_denisovans.png\", bbox_inches='tight')\n"
   ]
  },
  {
   "cell_type": "markdown",
   "id": "1cace484-a0e6-4eab-b0aa-dda25c9e580d",
   "metadata": {},
   "source": [
    "And now we will show the counter factuals:"
   ]
  },
  {
   "cell_type": "code",
   "execution_count": 16,
   "id": "125f5b32-7b22-4437-b447-e460b0bea51c",
   "metadata": {},
   "outputs": [
    {
     "name": "stdout",
     "output_type": "stream",
     "text": [
      "Change dominating species from Homo Sapiens to Neanderthal would require removing 20 reads: [49, 36, 76, 54, 28, 37, 38, 22, 35, 42, 16, 47, 98, 3, 0, 41, 24, 25, 10, 17]\n",
      "[0, 3, 10, 16, 17, 22, 24, 25, 28, 35, 36, 37, 38, 41, 42, 47, 49, 54, 76, 98]\n"
     ]
    }
   ],
   "source": [
    "cf = maximum_likelihood_calculator_d_1.generateCounterFactualMinimalSetToRemoveAndChangeMax(shaps_10000_dataset_1)\n",
    "print(sorted(cf[0]))\n"
   ]
  },
  {
   "cell_type": "markdown",
   "id": "a8c65380-965e-4a79-8b3a-c52af2f6b700",
   "metadata": {},
   "source": [
    "## Now we will look into the REAL -2"
   ]
  },
  {
   "cell_type": "code",
   "execution_count": 17,
   "id": "95563686-b540-4c0f-9a7d-8ffb04dd442a",
   "metadata": {},
   "outputs": [
    {
     "name": "stderr",
     "output_type": "stream",
     "text": [
      "[E::idx_find_and_load] Could not retrieve index file for 'data/RealData/merged_NeaDenisovaCave_Fumane_50_50_100reads.bam'\n"
     ]
    }
   ],
   "source": [
    "reads_2 = getListOfReadsFromBamFile(bamFilePath_2)\n",
    "sorted_reads_2 = sorted(reads_2, key=lambda a: a[\"name\"], reverse=True)\n",
    "sorted_reads_only_sequence_2 = [a[\"read\"] for a in sorted_reads_2]"
   ]
  },
  {
   "cell_type": "code",
   "execution_count": 18,
   "id": "ba93e946-781b-4e7d-a3d8-7d70c65f2f26",
   "metadata": {},
   "outputs": [
    {
     "name": "stdout",
     "output_type": "stream",
     "text": [
      "\u001b[34mLoading sequences and calculating alignments to all references, this might take a while. Number of reads: \u001b[0m 100\n",
      "start working on read number 0\n",
      "start working on read number 40\n",
      "start working on read number 80\n"
     ]
    }
   ],
   "source": [
    "maximum_likelihood_calculator_d_2 = ExplainableMaximumLikelihoodCalculator(sorted_reads_only_sequence_2,\n",
    "                                                    ref_neanderthal_file_names=neanderthals_reference_file_names,\n",
    "                                                    ref_sapien_file_names=sapiens_reference_file_names,\n",
    "                                                    ref_denisovan_file_names=denisovan_reference_file_names,\n",
    "                                                    path_to_substitution_matrix=path_to_frequencies_table,\n",
    "                                                    number_of_jobs=-1)"
   ]
  },
  {
   "cell_type": "code",
   "execution_count": 19,
   "id": "b5b0c2d2-26a9-4824-9ac0-991958300824",
   "metadata": {},
   "outputs": [
    {
     "data": {
      "text/html": [
       "<div>\n",
       "<style scoped>\n",
       "    .dataframe tbody tr th:only-of-type {\n",
       "        vertical-align: middle;\n",
       "    }\n",
       "\n",
       "    .dataframe tbody tr th {\n",
       "        vertical-align: top;\n",
       "    }\n",
       "\n",
       "    .dataframe thead th {\n",
       "        text-align: right;\n",
       "    }\n",
       "</style>\n",
       "<table border=\"1\" class=\"dataframe\">\n",
       "  <thead>\n",
       "    <tr style=\"text-align: right;\">\n",
       "      <th></th>\n",
       "      <th>Homo Sapiens</th>\n",
       "      <th>Neanderthals</th>\n",
       "      <th>Denisovans</th>\n",
       "    </tr>\n",
       "  </thead>\n",
       "  <tbody>\n",
       "    <tr>\n",
       "      <th>Estimation</th>\n",
       "      <td>0.625</td>\n",
       "      <td>0.375</td>\n",
       "      <td>0.0</td>\n",
       "    </tr>\n",
       "  </tbody>\n",
       "</table>\n",
       "</div>"
      ],
      "text/plain": [
       "            Homo Sapiens  Neanderthals  Denisovans\n",
       "Estimation         0.625         0.375         0.0"
      ]
     },
     "execution_count": 19,
     "metadata": {},
     "output_type": "execute_result"
    }
   ],
   "source": [
    "maximum_likelihood_calculator_d_2.estimate_species_proportions()"
   ]
  },
  {
   "cell_type": "code",
   "execution_count": 20,
   "id": "001c7e95-d6ec-44fd-8fef-3d9121e6187f",
   "metadata": {},
   "outputs": [
    {
     "name": "stdout",
     "output_type": "stream",
     "text": [
      "1\n"
     ]
    },
    {
     "data": {
      "application/vnd.jupyter.widget-view+json": {
       "model_id": "e7570150162a4288a342610119931e16",
       "version_major": 2,
       "version_minor": 0
      },
      "text/plain": [
       "  0%|          | 0/1 [00:00<?, ?it/s]"
      ]
     },
     "metadata": {},
     "output_type": "display_data"
    },
    {
     "name": "stdout",
     "output_type": "stream",
     "text": [
      "1\n",
      "10000\n"
     ]
    }
   ],
   "source": [
    "shaps_10000_second_dataset = maximum_likelihood_calculator_d_2.calculate_shapley_values(10000)"
   ]
  },
  {
   "cell_type": "code",
   "execution_count": 21,
   "id": "bd5cf70b-40aa-4681-994a-b3f14c0c99aa",
   "metadata": {},
   "outputs": [
    {
     "data": {
      "image/png": "[encoded data removed]",
      "text/plain": [
       "<Figure size 640x480 with 1 Axes>"
      ]
     },
     "metadata": {},
     "output_type": "display_data"
    }
   ],
   "source": [
    "plt.bar([i for i in range(100)],shaps_10000_second_dataset[0][0])\n",
    "plt.rcParams.update({'font.size': 15})\n",
    "\n",
    "plt.xlabel(\"Read index\")\n",
    "plt.ylabel(\"Influence value\")\n",
    "plt.tight_layout()\n",
    "\n",
    "plt.savefig(\"dataset_2_shap_homosapien.png\", bbox_inches='tight')\n"
   ]
  },
  {
   "cell_type": "code",
   "execution_count": 22,
   "id": "e6ea030c-fc27-49d6-8a2a-88b4d8e917a0",
   "metadata": {},
   "outputs": [
    {
     "data": {
      "image/png": "[encoded data removed]",
      "text/plain": [
       "<Figure size 640x480 with 1 Axes>"
      ]
     },
     "metadata": {},
     "output_type": "display_data"
    }
   ],
   "source": [
    "plt.bar([i for i in range(100)],shaps_10000_second_dataset[1][0])\n",
    "plt.rcParams.update({'font.size': 15})\n",
    "plt.xlabel(\"Read index\")\n",
    "plt.ylabel(\"Influence value\")\n",
    "plt.tight_layout()\n",
    "\n",
    "plt.savefig(\"dataset_2_shap_neanderthals.png\", bbox_inches='tight')\n"
   ]
  },
  {
   "cell_type": "code",
   "execution_count": 23,
   "id": "da8a0a02-85e6-4fb5-a15d-771f8c429900",
   "metadata": {},
   "outputs": [
    {
     "data": {
      "image/png": "[encoded data removed]",
      "text/plain": [
       "<Figure size 640x480 with 1 Axes>"
      ]
     },
     "metadata": {},
     "output_type": "display_data"
    }
   ],
   "source": [
    "plt.bar([i for i in range(100)],shaps_10000_second_dataset[2][0])\n",
    "plt.rcParams.update({'font.size': 15})\n",
    "\n",
    "plt.xlabel(\"Read index\")\n",
    "plt.ylabel(\"Influence value\")\n",
    "plt.tight_layout()\n",
    "plt.savefig(\"dataset_2_shap_denisovans.png\", bbox_inches='tight')\n"
   ]
  },
  {
   "cell_type": "code",
   "execution_count": 24,
   "id": "e0db4e03-1902-4a22-93c7-342f1ed77be4",
   "metadata": {},
   "outputs": [
    {
     "name": "stdout",
     "output_type": "stream",
     "text": [
      "Change dominating species from Homo Sapiens to Neanderthal would require removing 10 reads: [39, 32, 21, 12, 33, 27, 26, 7, 2, 16]\n",
      "[2, 7, 12, 16, 21, 26, 27, 32, 33, 39]\n"
     ]
    }
   ],
   "source": [
    "cf = maximum_likelihood_calculator_d_2.generateCounterFactualMinimalSetToRemoveAndChangeMax(shaps_10000_second_dataset)\n",
    "print(sorted(cf[0]))\n"
   ]
  },
  {
   "cell_type": "markdown",
   "id": "e7f423fb-1234-421d-87f6-fb9e2a79f0d0",
   "metadata": {},
   "source": [
    "## Now we will focus only on the Homo Sapiens library"
   ]
  },
  {
   "cell_type": "code",
   "execution_count": 25,
   "id": "8859efa8-eb7d-4173-8ec4-a8c5e252eff5",
   "metadata": {},
   "outputs": [
    {
     "name": "stdout",
     "output_type": "stream",
     "text": [
      "\u001b[34mLoading sequences and calculating alignments to all references, this might take a while. Number of reads: \u001b[0m 50\n",
      "start working on read number 0\n",
      "start working on read number 40\n"
     ]
    }
   ],
   "source": [
    "maximum_likelihood_calculator_d_3 = ExplainableMaximumLikelihoodCalculator(sorted_reads_only_sequence_1[:50],\n",
    "                                                    ref_neanderthal_file_names=neanderthals_reference_file_names,\n",
    "                                                    ref_sapien_file_names=sapiens_reference_file_names,\n",
    "                                                    ref_denisovan_file_names=denisovan_reference_file_names,\n",
    "                                                    path_to_substitution_matrix=path_to_frequencies_table,\n",
    "                                                    number_of_jobs=-1)"
   ]
  },
  {
   "cell_type": "code",
   "execution_count": 26,
   "id": "1cbabc1b-d04a-4db8-bc5d-9f6365298914",
   "metadata": {},
   "outputs": [
    {
     "data": {
      "text/html": [
       "<div>\n",
       "<style scoped>\n",
       "    .dataframe tbody tr th:only-of-type {\n",
       "        vertical-align: middle;\n",
       "    }\n",
       "\n",
       "    .dataframe tbody tr th {\n",
       "        vertical-align: top;\n",
       "    }\n",
       "\n",
       "    .dataframe thead th {\n",
       "        text-align: right;\n",
       "    }\n",
       "</style>\n",
       "<table border=\"1\" class=\"dataframe\">\n",
       "  <thead>\n",
       "    <tr style=\"text-align: right;\">\n",
       "      <th></th>\n",
       "      <th>Homo Sapiens</th>\n",
       "      <th>Neanderthals</th>\n",
       "      <th>Denisovans</th>\n",
       "    </tr>\n",
       "  </thead>\n",
       "  <tbody>\n",
       "    <tr>\n",
       "      <th>Estimation</th>\n",
       "      <td>1.0</td>\n",
       "      <td>0.0</td>\n",
       "      <td>0.0</td>\n",
       "    </tr>\n",
       "  </tbody>\n",
       "</table>\n",
       "</div>"
      ],
      "text/plain": [
       "            Homo Sapiens  Neanderthals  Denisovans\n",
       "Estimation           1.0           0.0         0.0"
      ]
     },
     "execution_count": 26,
     "metadata": {},
     "output_type": "execute_result"
    }
   ],
   "source": [
    "maximum_likelihood_calculator_d_3.estimate_species_proportions()"
   ]
  },
  {
   "cell_type": "markdown",
   "id": "b21e4e8c-9fbd-41e1-a082-65499d5f7491",
   "metadata": {},
   "source": [
    "## Now we will focus on the Neanderthals from the REAL 1"
   ]
  },
  {
   "cell_type": "code",
   "execution_count": 27,
   "id": "d0b03fa0-b465-4455-b94a-d9876816c2ab",
   "metadata": {},
   "outputs": [
    {
     "name": "stdout",
     "output_type": "stream",
     "text": [
      "\u001b[34mLoading sequences and calculating alignments to all references, this might take a while. Number of reads: \u001b[0m 50\n",
      "start working on read number 0\n",
      "start working on read number 40\n"
     ]
    }
   ],
   "source": [
    "maximum_likelihood_calculator_d_4 = ExplainableMaximumLikelihoodCalculator(sorted_reads_only_sequence_1[50:],\n",
    "                                                    ref_neanderthal_file_names=neanderthals_reference_file_names,\n",
    "                                                    ref_sapien_file_names=sapiens_reference_file_names,\n",
    "                                                    ref_denisovan_file_names=denisovan_reference_file_names,\n",
    "                                                    path_to_substitution_matrix=path_to_frequencies_table,\n",
    "                                                    number_of_jobs=-1)"
   ]
  },
  {
   "cell_type": "code",
   "execution_count": 28,
   "id": "8d90c10d-fc87-4f6b-8b8a-69bdc26ab651",
   "metadata": {},
   "outputs": [
    {
     "data": {
      "text/html": [
       "<div>\n",
       "<style scoped>\n",
       "    .dataframe tbody tr th:only-of-type {\n",
       "        vertical-align: middle;\n",
       "    }\n",
       "\n",
       "    .dataframe tbody tr th {\n",
       "        vertical-align: top;\n",
       "    }\n",
       "\n",
       "    .dataframe thead th {\n",
       "        text-align: right;\n",
       "    }\n",
       "</style>\n",
       "<table border=\"1\" class=\"dataframe\">\n",
       "  <thead>\n",
       "    <tr style=\"text-align: right;\">\n",
       "      <th></th>\n",
       "      <th>Homo Sapiens</th>\n",
       "      <th>Neanderthals</th>\n",
       "      <th>Denisovans</th>\n",
       "    </tr>\n",
       "  </thead>\n",
       "  <tbody>\n",
       "    <tr>\n",
       "      <th>Estimation</th>\n",
       "      <td>0.275</td>\n",
       "      <td>0.675</td>\n",
       "      <td>0.05</td>\n",
       "    </tr>\n",
       "  </tbody>\n",
       "</table>\n",
       "</div>"
      ],
      "text/plain": [
       "            Homo Sapiens  Neanderthals  Denisovans\n",
       "Estimation         0.275         0.675        0.05"
      ]
     },
     "execution_count": 28,
     "metadata": {},
     "output_type": "execute_result"
    }
   ],
   "source": [
    "maximum_likelihood_calculator_d_4.estimate_species_proportions()"
   ]
  },
  {
   "cell_type": "markdown",
   "id": "3876abda-57fd-43c8-bfa8-0a0ca3d5037c",
   "metadata": {},
   "source": [
    "### Calculate SHAP estimation"
   ]
  },
  {
   "cell_type": "code",
   "execution_count": 29,
   "id": "7694bc8a-3781-4c1d-9baa-b8049a07f709",
   "metadata": {},
   "outputs": [
    {
     "name": "stdout",
     "output_type": "stream",
     "text": [
      "1\n"
     ]
    },
    {
     "data": {
      "application/vnd.jupyter.widget-view+json": {
       "model_id": "93866362761f41dbb0c483bac5b87c74",
       "version_major": 2,
       "version_minor": 0
      },
      "text/plain": [
       "  0%|          | 0/1 [00:00<?, ?it/s]"
      ]
     },
     "metadata": {},
     "output_type": "display_data"
    },
    {
     "name": "stdout",
     "output_type": "stream",
     "text": [
      "1\n",
      "10000\n"
     ]
    }
   ],
   "source": [
    "shaps_10000_fourth_dataset = maximum_likelihood_calculator_d_4.calculate_shapley_values(10000)"
   ]
  },
  {
   "cell_type": "code",
   "execution_count": 33,
   "id": "9a246a81-fef7-4f95-b4cb-0814ba36e080",
   "metadata": {},
   "outputs": [
    {
     "data": {
      "image/png": "[encoded data removed]",
      "text/plain": [
       "<Figure size 640x480 with 1 Axes>"
      ]
     },
     "metadata": {},
     "output_type": "display_data"
    }
   ],
   "source": [
    "plt.bar([i for i in range(50)],shaps_10000_fourth_dataset[0][0])\n",
    "plt.rcParams.update({'font.size': 15})\n",
    "plt.xlabel(\"Read index\")\n",
    "plt.ylabel(\"Influence value\")\n",
    "plt.tight_layout()\n",
    "plt.savefig(\"dataset_4_shap_homosapien.png\", bbox_inches='tight')\n"
   ]
  },
  {
   "cell_type": "code",
   "execution_count": 34,
   "id": "5175053d-7f14-425b-895e-b2fa92ee54db",
   "metadata": {},
   "outputs": [
    {
     "data": {
      "image/png": "[encoded data removed]",
      "text/plain": [
       "<Figure size 640x480 with 1 Axes>"
      ]
     },
     "metadata": {},
     "output_type": "display_data"
    }
   ],
   "source": [
    "plt.bar([i for i in range(50)],shaps_10000_fourth_dataset[1][0])\n",
    "plt.rcParams.update({'font.size': 15})\n",
    "\n",
    "plt.xlabel(\"Read index\")\n",
    "plt.ylabel(\"Influence value\")\n",
    "plt.tight_layout()\n",
    "plt.savefig(\"dataset_4_shap_neanderthals.png\", bbox_inches='tight')"
   ]
  },
  {
   "cell_type": "code",
   "execution_count": 35,
   "id": "d56acef9-905c-46bb-b050-129fe7610b22",
   "metadata": {},
   "outputs": [
    {
     "data": {
      "image/png": "[encoded data removed]",
      "text/plain": [
       "<Figure size 640x480 with 1 Axes>"
      ]
     },
     "metadata": {},
     "output_type": "display_data"
    }
   ],
   "source": [
    "plt.bar([i for i in range(50)],shaps_10000_fourth_dataset[2][0])\n",
    "plt.rcParams.update({'font.size': 15})\n",
    "\n",
    "plt.xlabel(\"Read index\")\n",
    "plt.ylabel(\"Influence value\")\n",
    "plt.tight_layout()\n",
    "plt.savefig(\"dataset_4_shap_denisovans.png\", bbox_inches='tight')\n"
   ]
  },
  {
   "cell_type": "code",
   "execution_count": 36,
   "id": "493d87bb-834e-45fb-9e7a-497c900e8aa0",
   "metadata": {},
   "outputs": [
    {
     "data": {
      "text/plain": [
       "[(48, 0.2344800154720036), (26, 0.22869196235849681), (4, 0.2143206214776488)]"
      ]
     },
     "execution_count": 36,
     "metadata": {},
     "output_type": "execute_result"
    }
   ],
   "source": [
    "outliers = sorted(list(enumerate(shaps_10000_fourth_dataset[0][0])), key=lambda a: a[1], reverse=True)[:3]\n",
    "outliers"
   ]
  },
  {
   "cell_type": "markdown",
   "id": "7bf2084f-d89c-4a7f-916f-c7f8390acd76",
   "metadata": {},
   "source": [
    "### Show alignments of each of the outlier sequences "
   ]
  },
  {
   "cell_type": "code",
   "execution_count": 39,
   "id": "f44df242-256d-4e4e-8e0b-dc111efa7273",
   "metadata": {},
   "outputs": [
    {
     "name": "stdout",
     "output_type": "stream",
     "text": [
      "\u001b[32mPrinting all alignments for read number 4:\u001b[0m\n",
      "\u001b[32mRead length is 32:\u001b[0m\n",
      "\u001b[34mAlignments to Homo sapiens references:\u001b[0m\n",
      "Homo Sapiens-AF346981.1\n",
      "101 ACCACCATCCTCCGTGAAATCAATATCCCGCA\n",
      "    ||||||||||||||||||||||||||||||||\n",
      "  1 ACCACCATCCTCCGTGAAATCAATATCCCGCA\n",
      "  Score=32\n",
      "\n",
      "Homo Sapiens-AY195760.2\n",
      "98 ACCACCATCCTCCGTGAAATCAATATCCCGCA\n",
      "   ||||||||||||||||||||||||||||||||\n",
      " 1 ACCACCATCCTCCGTGAAATCAATATCCCGCA\n",
      "  Score=32\n",
      "\n",
      "Homo Sapiens-AY882416.1\n",
      "99 ACCACCATCCTCCGTGAAATCAATATCCCGCA\n",
      "   ||||||||||||||||||||||||||||||||\n",
      " 1 ACCACCATCCTCCGTGAAATCAATATCCCGCA\n",
      "  Score=32\n",
      "\n",
      "Homo Sapiens-AY963586.3\n",
      "110 ACCACCATCCTCCGTGAAATCAATATCCCGCA\n",
      "    ||||||||||||||||||||||||||||||||\n",
      "  1 ACCACCATCCTCCGTGAAATCAATATCCCGCA\n",
      "  Score=32\n",
      "\n",
      "Homo Sapiens-AY195781.2\n",
      "99 ACCACCATCCTCCGTGAAATCAATATCCCGCA\n",
      "   ||||||||||||||||||||||||||||||||\n",
      " 1 ACCACCATCCTCCGTGAAATCAATATCCCGCA\n",
      "  Score=32\n",
      "\n",
      "Homo Sapiens-AY195757.1\n",
      "101 ACCACCATCCTCCGTGAAATCAATATCCCGCA\n",
      "    ||||||||||||||||||||||||||||||||\n",
      "  1 ACCACCATCCTCCGTGAAATCAATATCCCGCA\n",
      "  Score=32\n",
      "\n",
      "Homo Sapiens-AY195749.2\n",
      "95 ACCACCATCCTCCGTGAAATCAATATCCCGCA\n",
      "   ||||||||||||||||||||||||||||||||\n",
      " 1 ACCACCATCCTCCGTGAAATCAATATCCCGCA\n",
      "  Score=32\n",
      "\n",
      "\u001b[34mAlignments to Neanderthal references:\u001b[0m\n",
      "Neanderthal-FM865411.1\n",
      "96 ATCACCATCCTCCGTGAAATCAATATCCCGCA\n",
      "   |.||||||||||||||||||||||||||||||\n",
      " 1 ACCACCATCCTCCGTGAAATCAATATCCCGCA\n",
      "  Score=31.1\n",
      "\n",
      "Neanderthal-KC879692.1\n",
      "98 ATCACCATCCTCCGTGAAATCAATATCCCGCA\n",
      "   |.||||||||||||||||||||||||||||||\n",
      " 1 ACCACCATCCTCCGTGAAATCAATATCCCGCA\n",
      "  Score=31.1\n",
      "\n",
      "Neanderthal-KU131206.2\n",
      "96 ATCACCATCCTCCGTGAAATCAATATCCCGCA\n",
      "   |.||||||||||||||||||||||||||||||\n",
      " 1 ACCACCATCCTCCGTGAAATCAATATCCCGCA\n",
      "  Score=31.1\n",
      "\n",
      "Neanderthal-MG025538.1\n",
      "96 ATCACCATCCTCCGTGAAATCAATATCCCGCA\n",
      "   |.||||||||||||||||||||||||||||||\n",
      " 1 ACCACCATCCTCCGTGAAATCAATATCCCGCA\n",
      "  Score=31.1\n",
      "\n",
      "Neanderthal-AM948965.1\n",
      "96 ATCACCATCCTCCGTGAAATCAATATCCCGCA\n",
      "   |.||||||||||||||||||||||||||||||\n",
      " 1 ACCACCATCCTCCGTGAAATCAATATCCCGCA\n",
      "  Score=31.1\n",
      "\n",
      "Neanderthal-KJ533545.1\n",
      "96 ATCACCATCCTCCGTGAAATCAATATCCCGCA\n",
      "   |.||||||||||||||||||||||||||||||\n",
      " 1 ACCACCATCCTCCGTGAAATCAATATCCCGCA\n",
      "  Score=31.1\n",
      "\n",
      "\u001b[34mAlignments to Denisovan references:\u001b[0m\n",
      "Denisovan-MT576653.1\n",
      "102 ACCACCATCCTCCGTGAAATCAATATCCCGCA\n",
      "    ||||||||||||||||||||||||||||||||\n",
      "  1 ACCACCATCCTCCGTGAAATCAATATCCCGCA\n",
      "  Score=32\n",
      "\n",
      "Denisovan-MT576652.1\n",
      "102 ACCACCATCCTCCGTGAAATCAATATCCCGCA\n",
      "    ||||||||||||||||||||||||||||||||\n",
      "  1 ACCACCATCCTCCGTGAAATCAATATCCCGCA\n",
      "  Score=32\n",
      "\n",
      "Denisovan-FR695060.1\n",
      "101 ACCACCATCCTCCGTGAAATCAATATCCCGCA\n",
      "    ||||||||||||||||||||||||||||||||\n",
      "  1 ACCACCATCCTCCGTGAAATCAATATCCCGCA\n",
      "  Score=32\n",
      "\n",
      "Denisovan-KT780370.1\n",
      "104 ACCACCATCCTCCGTGAAATCAATATCCCGCA\n",
      "    ||||||||||||||||||||||||||||||||\n",
      "  1 ACCACCATCCTCCGTGAAATCAATATCCCGCA\n",
      "  Score=32\n",
      "\n",
      "Denisovan-NC_013993.1\n",
      "101 GCCACCATCCTCCGTGAAATCAATATCCCGCA\n",
      "    .|||||||||||||||||||||||||||||||\n",
      "  1 ACCACCATCCTCCGTGAAATCAATATCCCGCA\n",
      "  Score=31.1\n",
      "\n",
      "Denisovan-MT576651.1\n",
      "102 ACCACCATCCTCCGTGAAATCAATATCCCGCA\n",
      "    ||||||||||||||||||||||||||||||||\n",
      "  1 ACCACCATCCTCCGTGAAATCAATATCCCGCA\n",
      "  Score=32\n",
      "\n",
      "None\n",
      "\u001b[32mPrinting all alignments for read number 26:\u001b[0m\n",
      "\u001b[32mRead length is 33:\u001b[0m\n",
      "\u001b[34mAlignments to Homo sapiens references:\u001b[0m\n",
      "Homo Sapiens-AF346981.1\n",
      "101 ACTACGATAGCCCTTATGAAACTTAAGGGTCGA\n",
      "    |||||||||||||||||||||||||||||||||\n",
      "  1 ACTACGATAGCCCTTATGAAACTTAAGGGTCGA\n",
      "  Score=33\n",
      "\n",
      "Homo Sapiens-AY195760.2\n",
      "98 ACTACGATAGCCCTTATGAAACTTAAGGGTCGA\n",
      "   |||||||||||||||||||||||||||||||||\n",
      " 1 ACTACGATAGCCCTTATGAAACTTAAGGGTCGA\n",
      "  Score=33\n",
      "\n",
      "Homo Sapiens-AY882416.1\n",
      "99 ACTACGATAGCCCTTATGAAACTTAAGGGTCGA\n",
      "   |||||||||||||||||||||||||||||||||\n",
      " 1 ACTACGATAGCCCTTATGAAACTTAAGGGTCGA\n",
      "  Score=33\n",
      "\n",
      "Homo Sapiens-AY963586.3\n",
      "110 ACTACGATAGCCCTTATGAAACTTAAGGGTCGA\n",
      "    |||||||||||||||||||||||||||||||||\n",
      "  1 ACTACGATAGCCCTTATGAAACTTAAGGGTCGA\n",
      "  Score=33\n",
      "\n",
      "Homo Sapiens-AY195781.2\n",
      "99 ACTACGATAGCCCTTATGAAACTTAAGGGTCGA\n",
      "   |||||||||||||||||||||||||||||||||\n",
      " 1 ACTACGATAGCCCTTATGAAACTTAAGGGTCGA\n",
      "  Score=33\n",
      "\n",
      "Homo Sapiens-AY195757.1\n",
      "101 ACTACGATAGCCCTTATGAAACTTAAGGGTCGA\n",
      "    |||||||||||||||||||||||||||||||||\n",
      "  1 ACTACGATAGCCCTTATGAAACTTAAGGGTCGA\n",
      "  Score=33\n",
      "\n",
      "Homo Sapiens-AY195749.2\n",
      "102 ACTACGATAGCCCTTATGAAACTTAAGGGTCGA\n",
      "    |||||||||||||||||||||||||||||||||\n",
      "  1 ACTACGATAGCCCTTATGAAACTTAAGGGTCGA\n",
      "  Score=33\n",
      "\n",
      "\u001b[34mAlignments to Neanderthal references:\u001b[0m\n",
      "Neanderthal-FM865411.1\n",
      "95 ACTACGATAGCCCTTATGAAACCTAAGGGTCGA\n",
      "   ||||||||||||||||||||||.||||||||||\n",
      " 1 ACTACGATAGCCCTTATGAAACTTAAGGGTCGA\n",
      "  Score=32.1\n",
      "\n",
      "Neanderthal-KC879692.1\n",
      "98 ACTACGATAGCCCTTATGAAACCTAAGGGTCGA\n",
      "   ||||||||||||||||||||||.||||||||||\n",
      " 1 ACTACGATAGCCCTTATGAAACTTAAGGGTCGA\n",
      "  Score=32.1\n",
      "\n",
      "Neanderthal-KU131206.2\n",
      "95 ACTACGATAGCCCTTATGAAACCTAAGGGTCGA\n",
      "   ||||||||||||||||||||||.||||||||||\n",
      " 1 ACTACGATAGCCCTTATGAAACTTAAGGGTCGA\n",
      "  Score=32.1\n",
      "\n",
      "Neanderthal-MG025538.1\n",
      "95 ACTACGATAGCCCTTATGAAACCTAAGGGTCGA\n",
      "   ||||||||||||||||||||||.||||||||||\n",
      " 1 ACTACGATAGCCCTTATGAAACTTAAGGGTCGA\n",
      "  Score=32.1\n",
      "\n",
      "Neanderthal-AM948965.1\n",
      "95 ACTACGATAGCCCTTATGAAACCTAAGGGTCGA\n",
      "   ||||||||||||||||||||||.||||||||||\n",
      " 1 ACTACGATAGCCCTTATGAAACTTAAGGGTCGA\n",
      "  Score=32.1\n",
      "\n",
      "Neanderthal-KJ533545.1\n",
      "95 ACTACGATAGCCCTTATGAAACCTAAGGGTCGA\n",
      "   ||||||||||||||||||||||.||||||||||\n",
      " 1 ACTACGATAGCCCTTATGAAACTTAAGGGTCGA\n",
      "  Score=32.1\n",
      "\n",
      "\u001b[34mAlignments to Denisovan references:\u001b[0m\n",
      "Denisovan-MT576653.1\n",
      "96 ACTACGATAGCCCTTATGAAATTTAAGGGTCGA\n",
      "   |||||||||||||||||||||.|||||||||||\n",
      " 1 ACTACGATAGCCCTTATGAAACTTAAGGGTCGA\n",
      "  Score=32.1\n",
      "\n",
      "Denisovan-MT576652.1\n",
      "96 ACTACGATAGCCCTTATGAAATTTAAGGGTCGA\n",
      "   |||||||||||||||||||||.|||||||||||\n",
      " 1 ACTACGATAGCCCTTATGAAACTTAAGGGTCGA\n",
      "  Score=32.1\n",
      "\n",
      "Denisovan-FR695060.1\n",
      "96 ACTACGATAACCCTTATGAAATTTAAGGGTCGA\n",
      "   |||||||||.|||||||||||.|||||||||||\n",
      " 1 ACTACGATAGCCCTTATGAAACTTAAGGGTCGA\n",
      "  Score=31.2\n",
      "\n",
      "Denisovan-KT780370.1\n",
      "97 ACTACGATAGCCCTTATGAAATTTAAGGGTCGA\n",
      "   |||||||||||||||||||||.|||||||||||\n",
      " 1 ACTACGATAGCCCTTATGAAACTTAAGGGTCGA\n",
      "  Score=32.1\n",
      "\n",
      "Denisovan-NC_013993.1\n",
      "96 ACTACGATAACCCTTATGAAATTTAAGGGTCGA\n",
      "   |||||||||.|||||||||||.|||||||||||\n",
      " 1 ACTACGATAGCCCTTATGAAACTTAAGGGTCGA\n",
      "  Score=31.2\n",
      "\n",
      "Denisovan-MT576651.1\n",
      "96 ACTACGATAGCCCTTATGAAATTTAAGGGTCGA\n",
      "   |||||||||||||||||||||.|||||||||||\n",
      " 1 ACTACGATAGCCCTTATGAAACTTAAGGGTCGA\n",
      "  Score=32.1\n",
      "\n",
      "None\n",
      "\u001b[32mPrinting all alignments for read number 48:\u001b[0m\n",
      "\u001b[32mRead length is 42:\u001b[0m\n",
      "\u001b[34mAlignments to Homo sapiens references:\u001b[0m\n",
      "Homo Sapiens-AF346981.1\n",
      "101 GCCCGCGTCCCTTTCTCCATAAAATTCTTCTTAGTAGCTATT\n",
      "    .|||.|.|||||||||||||||||||||||||||||||||||\n",
      "  1 ACCCACATCCCTTTCTCCATAAAATTCTTCTTAGTAGCTATT\n",
      "  Score=39.3\n",
      "\n",
      "Homo Sapiens-AY195760.2\n",
      "98 GCCCGCGTCCCTTTCTCCATAAAATTCTTCTTAGTAGCTATT\n",
      "   .|||.|.|||||||||||||||||||||||||||||||||||\n",
      " 1 ACCCACATCCCTTTCTCCATAAAATTCTTCTTAGTAGCTATT\n",
      "  Score=39.3\n",
      "\n",
      "Homo Sapiens-AY882416.1\n",
      "99 GCCCGCGTCCCTTTCTCCATAAAATTCTTCTTAGTAGCTATT\n",
      "   .|||.|.|||||||||||||||||||||||||||||||||||\n",
      " 1 ACCCACATCCCTTTCTCCATAAAATTCTTCTTAGTAGCTATT\n",
      "  Score=39.3\n",
      "\n",
      "Homo Sapiens-AY963586.3\n",
      "110 GCCCGCGTCCCTTTCTCCATAAAATTCTTCTTAGTAGCTATC\n",
      "    .|||.|.||||||||||||||||||||||||||||||||||.\n",
      "  1 ACCCACATCCCTTTCTCCATAAAATTCTTCTTAGTAGCTATT\n",
      "  Score=38.4\n",
      "\n",
      "Homo Sapiens-AY195781.2\n",
      "99 ACCCGCGTCCCTTTCTCCATAAAATTCTTCTTAGTAGCTATT\n",
      "   ||||.|.|||||||||||||||||||||||||||||||||||\n",
      " 1 ACCCACATCCCTTTCTCCATAAAATTCTTCTTAGTAGCTATT\n",
      "  Score=40.2\n",
      "\n",
      "Homo Sapiens-AY195757.1\n",
      "101 GCCCGCGTCCCTTTCTCCATAAAATTCTTCTTAGTAGCTATT\n",
      "    .|||.|.|||||||||||||||||||||||||||||||||||\n",
      "  1 ACCCACATCCCTTTCTCCATAAAATTCTTCTTAGTAGCTATT\n",
      "  Score=39.3\n",
      "\n",
      "Homo Sapiens-AY195749.2\n",
      "94 GCCCGCGTCCCTTTCTCCATAAAATTCTTCTTAGTAGCTATT\n",
      "   .|||.|.|||||||||||||||||||||||||||||||||||\n",
      " 1 ACCCACATCCCTTTCTCCATAAAATTCTTCTTAGTAGCTATT\n",
      "  Score=39.3\n",
      "\n",
      "\u001b[34mAlignments to Neanderthal references:\u001b[0m\n",
      "Neanderthal-FM865411.1\n",
      "95 GCCCGCGTCCCTTTCTCCATAAAATTCTTCTTAGTAGCTATT\n",
      "   .|||.|.|||||||||||||||||||||||||||||||||||\n",
      " 1 ACCCACATCCCTTTCTCCATAAAATTCTTCTTAGTAGCTATT\n",
      "  Score=39.3\n",
      "\n",
      "Neanderthal-KC879692.1\n",
      "98 GCCCGCGTCCCTTTCTCCATAAAATTCTTCTTAGTAGCTATT\n",
      "   .|||.|.|||||||||||||||||||||||||||||||||||\n",
      " 1 ACCCACATCCCTTTCTCCATAAAATTCTTCTTAGTAGCTATT\n",
      "  Score=39.3\n",
      "\n",
      "Neanderthal-KU131206.2\n",
      "95 GCCCGCGTCCCTTTCTCCATAAAATTCTTCTTAGTAGCTATT\n",
      "   .|||.|.|||||||||||||||||||||||||||||||||||\n",
      " 1 ACCCACATCCCTTTCTCCATAAAATTCTTCTTAGTAGCTATT\n",
      "  Score=39.3\n",
      "\n",
      "Neanderthal-MG025538.1\n",
      "95 GCCCGCGTCCCTTTCTCCATAAAATTCTTCTTAGTAGCTATT\n",
      "   .|||.|.|||||||||||||||||||||||||||||||||||\n",
      " 1 ACCCACATCCCTTTCTCCATAAAATTCTTCTTAGTAGCTATT\n",
      "  Score=39.3\n",
      "\n",
      "Neanderthal-AM948965.1\n",
      "95 GCCCGCGTCCCTTTCTCCATAAAATTCTTCTTAGTAGCTATT\n",
      "   .|||.|.|||||||||||||||||||||||||||||||||||\n",
      " 1 ACCCACATCCCTTTCTCCATAAAATTCTTCTTAGTAGCTATT\n",
      "  Score=39.3\n",
      "\n",
      "Neanderthal-KJ533545.1\n",
      "95 GCCCGCGTCCCTTTCTCCATAAAATTCTTCTTAGTAGCTATT\n",
      "   .|||.|.|||||||||||||||||||||||||||||||||||\n",
      " 1 ACCCACATCCCTTTCTCCATAAAATTCTTCTTAGTAGCTATT\n",
      "  Score=39.3\n",
      "\n",
      "\u001b[34mAlignments to Denisovan references:\u001b[0m\n",
      "Denisovan-MT576653.1\n",
      "102 GCCCGCGTCCCTTTCTCCATAAAATTTTTCTTAGTAGCTATC\n",
      "    .|||.|.|||||||||||||||||||.||||||||||||||.\n",
      "  1 ACCCACATCCCTTTCTCCATAAAATTCTTCTTAGTAGCTATT\n",
      "  Score=37.5\n",
      "\n",
      "Denisovan-MT576652.1\n",
      "102 GCCCGCGTCCCTTTCTCCATAAAATTTTTCTTAGTAGCTATC\n",
      "    .|||.|.|||||||||||||||||||.||||||||||||||.\n",
      "  1 ACCCACATCCCTTTCTCCATAAAATTCTTCTTAGTAGCTATT\n",
      "  Score=37.5\n",
      "\n",
      "Denisovan-FR695060.1\n",
      "102 GCCCGCGTCCCTTTCTCCATAAAATTTTTCTTAGTAGCTATC\n",
      "    .|||.|.|||||||||||||||||||.||||||||||||||.\n",
      "  1 ACCCACATCCCTTTCTCCATAAAATTCTTCTTAGTAGCTATT\n",
      "  Score=37.5\n",
      "\n",
      "Denisovan-KT780370.1\n",
      "104 GCCCGCGTCCCTTTCTCCATAAAATTTTTCTTAGTAGCTATC\n",
      "    .|||.|.|||||||||||||||||||.||||||||||||||.\n",
      "  1 ACCCACATCCCTTTCTCCATAAAATTCTTCTTAGTAGCTATT\n",
      "  Score=37.5\n",
      "\n",
      "Denisovan-NC_013993.1\n",
      "102 GCCCGCGTCCCTTTCTCCATAAAATTTTTCTTAGTAGCTATC\n",
      "    .|||.|.|||||||||||||||||||.||||||||||||||.\n",
      "  1 ACCCACATCCCTTTCTCCATAAAATTCTTCTTAGTAGCTATT\n",
      "  Score=37.5\n",
      "\n",
      "Denisovan-MT576651.1\n",
      "102 GCCCGCGTCCCTTTCTCCATAAAATTTTTCTTAGTAGCTATC\n",
      "    .|||.|.|||||||||||||||||||.||||||||||||||.\n",
      "  1 ACCCACATCCCTTTCTCCATAAAATTCTTCTTAGTAGCTATT\n",
      "  Score=37.5\n",
      "\n",
      "None\n"
     ]
    }
   ],
   "source": [
    "outlier_indexes = sorted([i[0] for i in outliers])\n",
    "for ind in outlier_indexes:\n",
    "    print(maximum_likelihood_calculator_d_4.plot_alignments_of_read(ind))"
   ]
  },
  {
   "cell_type": "markdown",
   "id": "32b22547-f7e5-4a5b-9f5f-c05c48a0ce21",
   "metadata": {},
   "source": [
    "### Analytize the dataset without the outliers"
   ]
  },
  {
   "cell_type": "code",
   "execution_count": 48,
   "id": "755ac1c0-70d1-41c4-9d9c-dc44e0484496",
   "metadata": {},
   "outputs": [
    {
     "data": {
      "text/plain": [
       "48"
      ]
     },
     "execution_count": 48,
     "metadata": {},
     "output_type": "execute_result"
    }
   ],
   "source": [
    "len(sample_without_outliers)"
   ]
  },
  {
   "cell_type": "code",
   "execution_count": 49,
   "id": "a1e5a6dd-adbf-4e83-8713-67169a1d9cf1",
   "metadata": {},
   "outputs": [],
   "source": [
    "sample_without_outliers = sorted_reads_only_sequence_1[50:]\n",
    "sample_without_outliers = [sample_without_outliers[i] for i in range(len(sample_without_outliers)) if i not in outlier_indexes]"
   ]
  },
  {
   "cell_type": "code",
   "execution_count": 51,
   "id": "5f637490-9317-41d8-b605-387fcb550067",
   "metadata": {},
   "outputs": [
    {
     "name": "stdout",
     "output_type": "stream",
     "text": [
      "\u001b[34mLoading sequences and calculating alignments to all references, this might take a while. Number of reads: \u001b[0m 47\n",
      "start working on read number 0\n",
      "start working on read number 40\n"
     ]
    }
   ],
   "source": [
    "maximum_likelihood_calculator_d_4_without_outliers = ExplainableMaximumLikelihoodCalculator(sample_without_outliers,\n",
    "                                                    ref_neanderthal_file_names=neanderthals_reference_file_names,\n",
    "                                                    ref_sapien_file_names=sapiens_reference_file_names,\n",
    "                                                    ref_denisovan_file_names=denisovan_reference_file_names,\n",
    "                                                    path_to_substitution_matrix=path_to_frequencies_table,\n",
    "                                                    number_of_jobs=-1)"
   ]
  },
  {
   "cell_type": "code",
   "execution_count": 53,
   "id": "052a164f-26b6-4296-8952-6a0324e40348",
   "metadata": {},
   "outputs": [
    {
     "data": {
      "text/html": [
       "<div>\n",
       "<style scoped>\n",
       "    .dataframe tbody tr th:only-of-type {\n",
       "        vertical-align: middle;\n",
       "    }\n",
       "\n",
       "    .dataframe tbody tr th {\n",
       "        vertical-align: top;\n",
       "    }\n",
       "\n",
       "    .dataframe thead th {\n",
       "        text-align: right;\n",
       "    }\n",
       "</style>\n",
       "<table border=\"1\" class=\"dataframe\">\n",
       "  <thead>\n",
       "    <tr style=\"text-align: right;\">\n",
       "      <th></th>\n",
       "      <th>Homo Sapiens</th>\n",
       "      <th>Neanderthals</th>\n",
       "      <th>Denisovans</th>\n",
       "    </tr>\n",
       "  </thead>\n",
       "  <tbody>\n",
       "    <tr>\n",
       "      <th>Estimation</th>\n",
       "      <td>0.0</td>\n",
       "      <td>0.95</td>\n",
       "      <td>0.05</td>\n",
       "    </tr>\n",
       "  </tbody>\n",
       "</table>\n",
       "</div>"
      ],
      "text/plain": [
       "            Homo Sapiens  Neanderthals  Denisovans\n",
       "Estimation           0.0          0.95        0.05"
      ]
     },
     "execution_count": 53,
     "metadata": {},
     "output_type": "execute_result"
    }
   ],
   "source": [
    "maximum_likelihood_calculator_d_4_without_outliers.estimate_species_proportions()"
   ]
  },
  {
   "cell_type": "markdown",
   "id": "3024fa5f-016b-4b64-be50-1d922ddcf781",
   "metadata": {},
   "source": [
    "### Now analyze where would the outliers be using SHAP with less samples:"
   ]
  },
  {
   "cell_type": "code",
   "execution_count": 54,
   "id": "a1765959-f8a4-4c88-bbfa-077468763692",
   "metadata": {},
   "outputs": [
    {
     "name": "stdout",
     "output_type": "stream",
     "text": [
      "1\n"
     ]
    },
    {
     "data": {
      "application/vnd.jupyter.widget-view+json": {
       "model_id": "8ebf69dfc1f2478e9290139d4c3aea6e",
       "version_major": 2,
       "version_minor": 0
      },
      "text/plain": [
       "  0%|          | 0/1 [00:00<?, ?it/s]"
      ]
     },
     "metadata": {},
     "output_type": "display_data"
    },
    {
     "name": "stdout",
     "output_type": "stream",
     "text": [
      "1\n",
      "100\n",
      "1\n"
     ]
    },
    {
     "data": {
      "application/vnd.jupyter.widget-view+json": {
       "model_id": "e9c90d8e2b1941b0b94c4689297bdeeb",
       "version_major": 2,
       "version_minor": 0
      },
      "text/plain": [
       "  0%|          | 0/1 [00:00<?, ?it/s]"
      ]
     },
     "metadata": {},
     "output_type": "display_data"
    },
    {
     "name": "stdout",
     "output_type": "stream",
     "text": [
      "1\n",
      "1000\n"
     ]
    }
   ],
   "source": [
    "shaps_100_fourth_dataset = maximum_likelihood_calculator_d_4.calculate_shapley_values(100)\n",
    "shaps_1000_fourth_dataset = maximum_likelihood_calculator_d_4.calculate_shapley_values(1000)"
   ]
  },
  {
   "cell_type": "code",
   "execution_count": 57,
   "id": "6696c20d-2a55-41b4-852d-379719b7ceaa",
   "metadata": {},
   "outputs": [
    {
     "data": {
      "text/plain": [
       "[4, 26, 48]"
      ]
     },
     "execution_count": 57,
     "metadata": {},
     "output_type": "execute_result"
    }
   ],
   "source": [
    "outlier_indexes"
   ]
  },
  {
   "cell_type": "code",
   "execution_count": 55,
   "id": "0b8ca148-32e6-4e99-a2f1-65c6cb9f96ec",
   "metadata": {},
   "outputs": [
    {
     "data": {
      "text/plain": [
       "[(26, 0.3758961108405947),\n",
       " (5, 0.30481538136126285),\n",
       " (48, 0.18072921018914367),\n",
       " (4, 0.18057354909316042),\n",
       " (13, 0.15968410815311374)]"
      ]
     },
     "execution_count": 55,
     "metadata": {},
     "output_type": "execute_result"
    }
   ],
   "source": [
    "sorted(list(enumerate(shaps_100_fourth_dataset[0][0])), key=lambda a: a[1], reverse=True)[:5]"
   ]
  },
  {
   "cell_type": "code",
   "execution_count": 56,
   "id": "c896a353-2f40-48e7-8c4c-16d9f5d313ae",
   "metadata": {},
   "outputs": [
    {
     "data": {
      "text/plain": [
       "[(48, 0.23926584667362932),\n",
       " (4, 0.23690412595496352),\n",
       " (26, 0.23484670611684585),\n",
       " (5, 0.07314362128600488),\n",
       " (20, 0.039605658058579886)]"
      ]
     },
     "execution_count": 56,
     "metadata": {},
     "output_type": "execute_result"
    }
   ],
   "source": [
    "sorted(list(enumerate(shaps_1000_fourth_dataset[0][0])), key=lambda a: a[1], reverse=True)[:5]"
   ]
  },
  {
   "cell_type": "markdown",
   "id": "4ce8154a-15c4-4bb3-bdaa-e96c77c66e4f",
   "metadata": {},
   "source": [
    "## Now only the Neanderthals from REAL-2"
   ]
  },
  {
   "cell_type": "code",
   "execution_count": 58,
   "id": "2ed19d8f-2554-419e-81b6-b359d1d631da",
   "metadata": {},
   "outputs": [],
   "source": [
    "only_cave_neanderthals_sample = sorted_reads_only_sequence_2[:50]"
   ]
  },
  {
   "cell_type": "code",
   "execution_count": 59,
   "id": "d9bb1bbd-1f10-41a3-967d-825e77ad2efe",
   "metadata": {},
   "outputs": [
    {
     "name": "stdout",
     "output_type": "stream",
     "text": [
      "\u001b[34mLoading sequences and calculating alignments to all references, this might take a while. Number of reads: \u001b[0m 50\n",
      "start working on read number 0\n",
      "start working on read number 40\n"
     ]
    }
   ],
   "source": [
    "maximum_likelihood_calculator_real_2_only_cave_nean = ExplainableMaximumLikelihoodCalculator(only_cave_neanderthals_sample,\n",
    "                                                    ref_neanderthal_file_names=neanderthals_reference_file_names,\n",
    "                                                    ref_sapien_file_names=sapiens_reference_file_names,\n",
    "                                                    ref_denisovan_file_names=denisovan_reference_file_names,\n",
    "                                                    path_to_substitution_matrix=path_to_frequencies_table,\n",
    "                                                    number_of_jobs=-1)"
   ]
  },
  {
   "cell_type": "code",
   "execution_count": 60,
   "id": "b5e69f2c-04f3-4d47-923a-e6fd1be35c4f",
   "metadata": {},
   "outputs": [
    {
     "data": {
      "text/html": [
       "<div>\n",
       "<style scoped>\n",
       "    .dataframe tbody tr th:only-of-type {\n",
       "        vertical-align: middle;\n",
       "    }\n",
       "\n",
       "    .dataframe tbody tr th {\n",
       "        vertical-align: top;\n",
       "    }\n",
       "\n",
       "    .dataframe thead th {\n",
       "        text-align: right;\n",
       "    }\n",
       "</style>\n",
       "<table border=\"1\" class=\"dataframe\">\n",
       "  <thead>\n",
       "    <tr style=\"text-align: right;\">\n",
       "      <th></th>\n",
       "      <th>Homo Sapiens</th>\n",
       "      <th>Neanderthals</th>\n",
       "      <th>Denisovans</th>\n",
       "    </tr>\n",
       "  </thead>\n",
       "  <tbody>\n",
       "    <tr>\n",
       "      <th>Estimation</th>\n",
       "      <td>1.0</td>\n",
       "      <td>0.0</td>\n",
       "      <td>0.0</td>\n",
       "    </tr>\n",
       "  </tbody>\n",
       "</table>\n",
       "</div>"
      ],
      "text/plain": [
       "            Homo Sapiens  Neanderthals  Denisovans\n",
       "Estimation           1.0           0.0         0.0"
      ]
     },
     "execution_count": 60,
     "metadata": {},
     "output_type": "execute_result"
    }
   ],
   "source": [
    "maximum_likelihood_calculator_real_2_only_cave_nean.estimate_species_proportions()"
   ]
  },
  {
   "cell_type": "code",
   "execution_count": 61,
   "id": "8804c1af-3d33-4a6d-956d-6cda745816fa",
   "metadata": {},
   "outputs": [
    {
     "name": "stdout",
     "output_type": "stream",
     "text": [
      "1\n"
     ]
    },
    {
     "data": {
      "application/vnd.jupyter.widget-view+json": {
       "model_id": "43051b2a67ad440883df53f62e969229",
       "version_major": 2,
       "version_minor": 0
      },
      "text/plain": [
       "  0%|          | 0/1 [00:00<?, ?it/s]"
      ]
     },
     "metadata": {},
     "output_type": "display_data"
    },
    {
     "name": "stdout",
     "output_type": "stream",
     "text": [
      "1\n",
      "10000\n"
     ]
    }
   ],
   "source": [
    "shaps_10000_only_nean_cave =  maximum_likelihood_calculator_real_2_only_cave_nean.calculate_shapley_values(10000)"
   ]
  },
  {
   "cell_type": "code",
   "execution_count": 62,
   "id": "1c0ffd7e-b511-465e-9369-d6f0a00ea2de",
   "metadata": {},
   "outputs": [
    {
     "data": {
      "image/png": "[encoded data removed]",
      "text/plain": [
       "<Figure size 640x480 with 1 Axes>"
      ]
     },
     "metadata": {},
     "output_type": "display_data"
    }
   ],
   "source": [
    "plt.bar([i for i in range(50)],shaps_10000_only_nean_cave[0][0])\n",
    "plt.rcParams.update({'font.size': 15})\n",
    "\n",
    "plt.xlabel(\"Read index\")\n",
    "plt.ylabel(\"Influence value\")\n",
    "plt.tight_layout()\n",
    "plt.savefig(\"dataset_4_shap_homosapien.png\", bbox_inches='tight')\n"
   ]
  },
  {
   "cell_type": "code",
   "execution_count": 63,
   "id": "46e22fbe-af9c-4d77-bb0a-e9dc27b26b06",
   "metadata": {},
   "outputs": [
    {
     "data": {
      "image/png": "[encoded data removed]",
      "text/plain": [
       "<Figure size 640x480 with 1 Axes>"
      ]
     },
     "metadata": {},
     "output_type": "display_data"
    }
   ],
   "source": [
    "plt.bar([i for i in range(50)],shaps_10000_only_nean_cave[1][0])\n",
    "plt.rcParams.update({'font.size': 15})\n",
    "\n",
    "plt.xlabel(\"Read index\")\n",
    "plt.ylabel(\"Influence value\")\n",
    "plt.tight_layout()\n",
    "plt.savefig(\"dataset_only_cave_nean_shap_neanderthals.png\", bbox_inches='tight')"
   ]
  }
 ],
 "metadata": {
  "kernelspec": {
   "display_name": "Python 3 (ipykernel)",
   "language": "python",
   "name": "python3"
  },
  "language_info": {
   "codemirror_mode": {
    "name": "ipython",
    "version": 3
   },
   "file_extension": ".py",
   "mimetype": "text/x-python",
   "name": "python",
   "nbconvert_exporter": "python",
   "pygments_lexer": "ipython3",
   "version": "3.8.8"
  }
 },
 "nbformat": 4,
 "nbformat_minor": 5
}
