{
 "cells": [
  {
   "cell_type": "code",
   "execution_count": 6,
   "id": "c7bb3a50-acf7-4eb6-a820-542b1a292def",
   "metadata": {},
   "outputs": [],
   "source": [
    "file = open(\"Denisova_2_KX663333.fa\")"
   ]
  },
  {
   "cell_type": "code",
   "execution_count": 7,
   "id": "aa16207e-4d52-4cd2-9fc0-09349738bb3b",
   "metadata": {},
   "outputs": [],
   "source": [
    "a = file.read()"
   ]
  },
  {
   "cell_type": "code",
   "execution_count": 21,
   "id": "7b5aa866-bc6e-4b50-937f-6b21ea9830d7",
   "metadata": {},
   "outputs": [
    {
     "data": {
      "text/plain": [
       "<matplotlib.legend.Legend at 0x7f4910234fd0>"
      ]
     },
     "execution_count": 21,
     "metadata": {},
     "output_type": "execute_result"
    },
    {
     "data": {
      "image/png": "[encoded data removed]",
      "text/plain": [
       "<Figure size 432x288 with 1 Axes>"
      ]
     },
     "metadata": {
      "needs_background": "light"
     },
     "output_type": "display_data"
    }
   ],
   "source": [
    "import numpy as np\n",
    "import matplotlib.pyplot as plt\n",
    "data = [[30, 25, 23, -7],\n",
    "[13, 23, -2, 17],\n",
    "[35, 22, 12, 19]]\n",
    "X = np.arange(4)\n",
    "fig = plt.figure()\n",
    "ax = fig.add_axes([0,0,1,1])\n",
    "ax.set_ylabel(\"influence on results\")\n",
    "ax.set_xlabel(\"read index\")\n",
    "ax.bar(X + 0.00, data[0], color = 'b', width = 0.25, label=\"denisovans\")\n",
    "ax.bar(X + 0.25, data[1], color = 'g', width = 0.25, label=\"sapiens\")\n",
    "ax.bar(X + 0.50, data[2], color = 'r', width = 0.25, label=\"neanderthals\")\n",
    "ax.legend()"
   ]
  },
  {
   "cell_type": "code",
   "execution_count": null,
   "id": "5593218c-8756-41d8-8d26-87ed58045eb9",
   "metadata": {},
   "outputs": [],
   "source": []
  }
 ],
 "metadata": {
  "kernelspec": {
   "display_name": "Python 3 (ipykernel)",
   "language": "python",
   "name": "python3"
  },
  "language_info": {
   "codemirror_mode": {
    "name": "ipython",
    "version": 3
   },
   "file_extension": ".py",
   "mimetype": "text/x-python",
   "name": "python",
   "nbconvert_exporter": "python",
   "pygments_lexer": "ipython3",
   "version": "3.9.7"
  }
 },
 "nbformat": 4,
 "nbformat_minor": 5
}
